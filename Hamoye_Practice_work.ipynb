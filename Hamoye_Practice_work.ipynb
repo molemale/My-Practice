{
  "nbformat": 4,
  "nbformat_minor": 0,
  "metadata": {
    "colab": {
      "name": "Hamoye Practice work",
      "provenance": [],
      "collapsed_sections": [],
      "authorship_tag": "ABX9TyOxhAagPrTojfF8RXJ7qZwL",
      "include_colab_link": true
    },
    "kernelspec": {
      "name": "python3",
      "display_name": "Python 3"
    }
  },
  "cells": [
    {
      "cell_type": "markdown",
      "metadata": {
        "id": "view-in-github",
        "colab_type": "text"
      },
      "source": [
        "<a href=\"https://colab.research.google.com/github/molemale/My-Practice/blob/master/Hamoye_Practice_work.ipynb\" target=\"_parent\"><img src=\"https://colab.research.google.com/assets/colab-badge.svg\" alt=\"Open In Colab\"/></a>"
      ]
    },
    {
      "cell_type": "markdown",
      "metadata": {
        "id": "gUjkRQ5Frs6X",
        "colab_type": "text"
      },
      "source": [
        "**Practice**"
      ]
    },
    {
      "cell_type": "markdown",
      "metadata": {
        "id": "iJct9O2p2SqJ",
        "colab_type": "text"
      },
      "source": [
        "Using numpy to code\n",
        "arr= [6,7,8,9]\n",
        "a= np.array(arr)\n",
        "print(type(a),\"with shape=\",a.shape,\",dtype =\",a.dtype,\" and dimension\",a.ndim).\n"
      ]
    },
    {
      "cell_type": "code",
      "metadata": {
        "id": "c7K6s3J93dAf",
        "colab_type": "code",
        "colab": {
          "base_uri": "https://localhost:8080/",
          "height": 34
        },
        "outputId": "8f3c7aa7-7f73-4cbf-994f-255acbd64673"
      },
      "source": [
        "#trial\n",
        "import numpy as np\n",
        "arr=[6,7,8,9,10]\n",
        "a=np.array(arr)\n",
        "print(type(a),\"with shape=\",a.shape,\",dtype =\",a.dtype,\" and dimension\",a.ndim)"
      ],
      "execution_count": null,
      "outputs": [
        {
          "output_type": "stream",
          "text": [
            "<class 'numpy.ndarray'> with shape= (5,) ,dtype = int64  and dimension 1\n"
          ],
          "name": "stdout"
        }
      ]
    },
    {
      "cell_type": "code",
      "metadata": {
        "id": "geZTwnM04qQe",
        "colab_type": "code",
        "colab": {
          "base_uri": "https://localhost:8080/",
          "height": 34
        },
        "outputId": "36858ef7-bc00-426b-bdeb-5ae13b35c1c8"
      },
      "source": [
        "arr= [[1,2,3],[4,5,6]] #ndim no of dimension\n",
        "b= np.array(arr)\n",
        "print(type(b),\"with shape=\",b.shape,\",dtype =\",b.dtype,\" and dimension\",b.ndim)"
      ],
      "execution_count": null,
      "outputs": [
        {
          "output_type": "stream",
          "text": [
            "<class 'numpy.ndarray'> with shape= (2, 3) ,dtype = int64  and dimension 2\n"
          ],
          "name": "stdout"
        }
      ]
    },
    {
      "cell_type": "code",
      "metadata": {
        "id": "IflO6jrc7JXP",
        "colab_type": "code",
        "colab": {
          "base_uri": "https://localhost:8080/",
          "height": 102
        },
        "outputId": "095b03ae-d8ea-495c-f0d0-915d9312b0dd"
      },
      "source": [
        "print(np.zeros((2,3),dtype= int), #empty(), zeros(), ones(), full(), random.random(). you can also specify dtype(i.e int, float, stringetc.)\n",
        "np.ones((2,3)) #2 here is no of box while 3 is the replication\n",
        ",np.full((2,3),2.5)\n",
        ",np.random.random((2,3)))"
      ],
      "execution_count": null,
      "outputs": [
        {
          "output_type": "stream",
          "text": [
            "[[0 0 0]\n",
            " [0 0 0]] [[1. 1. 1.]\n",
            " [1. 1. 1.]] [[2.5 2.5 2.5]\n",
            " [2.5 2.5 2.5]] [[0.62536863 0.36631204 0.49759609]\n",
            " [0.86058836 0.56040071 0.92893772]]\n"
          ],
          "name": "stdout"
        }
      ]
    },
    {
      "cell_type": "code",
      "metadata": {
        "id": "zfDfHhfS8NRy",
        "colab_type": "code",
        "colab": {
          "base_uri": "https://localhost:8080/",
          "height": 34
        },
        "outputId": "4220d542-6423-4957-d63a-3e4b07368ec3"
      },
      "source": [
        "np.zeros((3)) #single array"
      ],
      "execution_count": null,
      "outputs": [
        {
          "output_type": "execute_result",
          "data": {
            "text/plain": [
              "array([0., 0., 0.])"
            ]
          },
          "metadata": {
            "tags": []
          },
          "execution_count": 23
        }
      ]
    },
    {
      "cell_type": "code",
      "metadata": {
        "id": "R6rdlkQx8662",
        "colab_type": "code",
        "colab": {
          "base_uri": "https://localhost:8080/",
          "height": 51
        },
        "outputId": "54e91f14-e6a8-4459-9e41-27dd8a6d38c1"
      },
      "source": [
        "c = np.array([[9.0, 8.0, 7.0], [1.0, 2.0, 3.0]])\n",
        "d = np.array([[4.0, 5.0, 6.0], [9.0, 8.0, 7.0]])\n",
        "c+d # summing by matrix\n",
        "#we could have other operations\n",
        "\n",
        "c*d\n"
      ],
      "execution_count": null,
      "outputs": [
        {
          "output_type": "execute_result",
          "data": {
            "text/plain": [
              "array([[36., 40., 42.],\n",
              "       [ 9., 16., 21.]])"
            ]
          },
          "metadata": {
            "tags": []
          },
          "execution_count": 24
        }
      ]
    },
    {
      "cell_type": "code",
      "metadata": {
        "id": "rp7T1l0b99Gh",
        "colab_type": "code",
        "colab": {
          "base_uri": "https://localhost:8080/",
          "height": 51
        },
        "outputId": "021ae9ea-208d-405e-f4c7-11f6868dd47d"
      },
      "source": [
        "d/5"
      ],
      "execution_count": null,
      "outputs": [
        {
          "output_type": "execute_result",
          "data": {
            "text/plain": [
              "array([[0.8, 1. , 1.2],\n",
              "       [1.8, 1.6, 1.4]])"
            ]
          },
          "metadata": {
            "tags": []
          },
          "execution_count": 25
        }
      ]
    },
    {
      "cell_type": "code",
      "metadata": {
        "id": "eFS5fDBo-EI8",
        "colab_type": "code",
        "colab": {
          "base_uri": "https://localhost:8080/",
          "height": 51
        },
        "outputId": "a21f0711-3309-4942-9902-bdc9c795c23e"
      },
      "source": [
        "c**2"
      ],
      "execution_count": null,
      "outputs": [
        {
          "output_type": "execute_result",
          "data": {
            "text/plain": [
              "array([[81., 64., 49.],\n",
              "       [ 1.,  4.,  9.]])"
            ]
          },
          "metadata": {
            "tags": []
          },
          "execution_count": 26
        }
      ]
    },
    {
      "cell_type": "code",
      "metadata": {
        "id": "izA9LREk-OhJ",
        "colab_type": "code",
        "colab": {
          "base_uri": "https://localhost:8080/",
          "height": 51
        },
        "outputId": "c2eac3cc-3439-4193-f0cb-f9682b49e927"
      },
      "source": [
        "d**2"
      ],
      "execution_count": null,
      "outputs": [
        {
          "output_type": "execute_result",
          "data": {
            "text/plain": [
              "array([[16., 25., 36.],\n",
              "       [81., 64., 49.]])"
            ]
          },
          "metadata": {
            "tags": []
          },
          "execution_count": 27
        }
      ]
    },
    {
      "cell_type": "code",
      "metadata": {
        "id": "QkV9-SS--lDC",
        "colab_type": "code",
        "colab": {
          "base_uri": "https://localhost:8080/",
          "height": 34
        },
        "outputId": "d841dd91-97b6-45cb-dda0-f104cf82f95d"
      },
      "source": [
        "a[3] #all these are from the arrays we created in earlier cells"
      ],
      "execution_count": null,
      "outputs": [
        {
          "output_type": "execute_result",
          "data": {
            "text/plain": [
              "9"
            ]
          },
          "metadata": {
            "tags": []
          },
          "execution_count": 28
        }
      ]
    },
    {
      "cell_type": "code",
      "metadata": {
        "id": "xmM47jMBAYJ1",
        "colab_type": "code",
        "colab": {
          "base_uri": "https://localhost:8080/",
          "height": 34
        },
        "outputId": "782a2dcc-4f65-4897-ed46-49287cf5c4d5"
      },
      "source": [
        "a[4]"
      ],
      "execution_count": null,
      "outputs": [
        {
          "output_type": "execute_result",
          "data": {
            "text/plain": [
              "10"
            ]
          },
          "metadata": {
            "tags": []
          },
          "execution_count": 29
        }
      ]
    },
    {
      "cell_type": "code",
      "metadata": {
        "id": "Jau88DM8AeJ9",
        "colab_type": "code",
        "colab": {
          "base_uri": "https://localhost:8080/",
          "height": 34
        },
        "outputId": "31b3bfd5-d442-4802-ce2d-62a0b6f0a957"
      },
      "source": [
        "b[0,0]"
      ],
      "execution_count": null,
      "outputs": [
        {
          "output_type": "execute_result",
          "data": {
            "text/plain": [
              "1"
            ]
          },
          "metadata": {
            "tags": []
          },
          "execution_count": 30
        }
      ]
    },
    {
      "cell_type": "code",
      "metadata": {
        "id": "wDXFrYWlBLmN",
        "colab_type": "code",
        "colab": {
          "base_uri": "https://localhost:8080/",
          "height": 34
        },
        "outputId": "77b02a5e-0022-42ed-924f-c869d72096dc"
      },
      "source": [
        "d[1,  0:3] #note the diffrence here, d = np.array([[4.0, 5.0, 6.0], [9.0, 8.0, 7.0]])"
      ],
      "execution_count": null,
      "outputs": [
        {
          "output_type": "execute_result",
          "data": {
            "text/plain": [
              "array([9., 8., 7.])"
            ]
          },
          "metadata": {
            "tags": []
          },
          "execution_count": 31
        }
      ]
    },
    {
      "cell_type": "code",
      "metadata": {
        "id": "VGYvKZgpCa1e",
        "colab_type": "code",
        "colab": {
          "base_uri": "https://localhost:8080/",
          "height": 102
        },
        "outputId": "dd46c9a2-03e2-4d71-9f33-2fbed1a278a6"
      },
      "source": [
        "e = np.array([[10, 11, 12],[13, 14, 15],[16, 17, 18],[19, 20, 21]])\n",
        "print(e)\n",
        "e[0,1]\n",
        "e[0,0:2]"
      ],
      "execution_count": null,
      "outputs": [
        {
          "output_type": "stream",
          "text": [
            "[[10 11 12]\n",
            " [13 14 15]\n",
            " [16 17 18]\n",
            " [19 20 21]]\n"
          ],
          "name": "stdout"
        },
        {
          "output_type": "execute_result",
          "data": {
            "text/plain": [
              "array([10, 11])"
            ]
          },
          "metadata": {
            "tags": []
          },
          "execution_count": 32
        }
      ]
    },
    {
      "cell_type": "code",
      "metadata": {
        "id": "9ItrSJJ9JQ6o",
        "colab_type": "code",
        "colab": {
          "base_uri": "https://localhost:8080/",
          "height": 68
        },
        "outputId": "e3482603-8676-4619-ab20-5dbe40a152c3"
      },
      "source": [
        "e[:3, :2] # slicing"
      ],
      "execution_count": null,
      "outputs": [
        {
          "output_type": "execute_result",
          "data": {
            "text/plain": [
              "array([[10, 11],\n",
              "       [13, 14],\n",
              "       [16, 17]])"
            ]
          },
          "metadata": {
            "tags": []
          },
          "execution_count": 33
        }
      ]
    },
    {
      "cell_type": "code",
      "metadata": {
        "id": "LsBgTgVeKaop",
        "colab_type": "code",
        "colab": {
          "base_uri": "https://localhost:8080/",
          "height": 51
        },
        "outputId": "b0bdd263-877a-4ead-8671-cdb18e8f2389"
      },
      "source": [
        "e[:2, :1]"
      ],
      "execution_count": null,
      "outputs": [
        {
          "output_type": "execute_result",
          "data": {
            "text/plain": [
              "array([[10],\n",
              "       [13]])"
            ]
          },
          "metadata": {
            "tags": []
          },
          "execution_count": 34
        }
      ]
    },
    {
      "cell_type": "code",
      "metadata": {
        "id": "ti-qmzlfKj9O",
        "colab_type": "code",
        "colab": {
          "base_uri": "https://localhost:8080/",
          "height": 34
        },
        "outputId": "bcf8a307-6e15-41a3-e62e-ac812dd83f1e"
      },
      "source": [
        "#There are other advanced methods of indexing which are shown below.\n",
        "# integer indexing e = np.array([[10, 11, 12],[13, 14, 15],[16, 17, 18],[19, 20, 21]])\n",
        "e[[2, 0, 3, 1],[2, 1, 0, 2]] #for example 18 is( located at 2,2 and 15 is located at 1,2) note that integers start at zero"
      ],
      "execution_count": null,
      "outputs": [
        {
          "output_type": "execute_result",
          "data": {
            "text/plain": [
              "array([18, 11, 19, 15])"
            ]
          },
          "metadata": {
            "tags": []
          },
          "execution_count": 35
        }
      ]
    },
    {
      "cell_type": "code",
      "metadata": {
        "id": "0HLcpgU4Y-NQ",
        "colab_type": "code",
        "colab": {
          "base_uri": "https://localhost:8080/",
          "height": 34
        },
        "outputId": "7b5170e4-88ad-4f1c-8590-cfd699204707"
      },
      "source": [
        "e[[0,2],[2,1]]# this should display 12 and 17"
      ],
      "execution_count": null,
      "outputs": [
        {
          "output_type": "execute_result",
          "data": {
            "text/plain": [
              "array([12, 17])"
            ]
          },
          "metadata": {
            "tags": []
          },
          "execution_count": 36
        }
      ]
    },
    {
      "cell_type": "markdown",
      "metadata": {
        "id": "bjIrFehJZuih",
        "colab_type": "text"
      },
      "source": [
        "Observe another trend\n"
      ]
    },
    {
      "cell_type": "code",
      "metadata": {
        "id": "caLxiMKOZ5Z0",
        "colab_type": "code",
        "colab": {
          "base_uri": "https://localhost:8080/",
          "height": 163
        },
        "outputId": "6cf1e5a2-a717-4db5-a905-aa3d52bbe6e9"
      },
      "source": [
        "array([18, 11, 19, 15])"
      ],
      "execution_count": null,
      "outputs": [
        {
          "output_type": "error",
          "ename": "NameError",
          "evalue": "ignored",
          "traceback": [
            "\u001b[0;31m---------------------------------------------------------------------------\u001b[0m",
            "\u001b[0;31mNameError\u001b[0m                                 Traceback (most recent call last)",
            "\u001b[0;32m<ipython-input-37-260bc2f22844>\u001b[0m in \u001b[0;36m<module>\u001b[0;34m()\u001b[0m\n\u001b[0;32m----> 1\u001b[0;31m \u001b[0marray\u001b[0m\u001b[0;34m(\u001b[0m\u001b[0;34m[\u001b[0m\u001b[0;36m18\u001b[0m\u001b[0;34m,\u001b[0m \u001b[0;36m11\u001b[0m\u001b[0;34m,\u001b[0m \u001b[0;36m19\u001b[0m\u001b[0;34m,\u001b[0m \u001b[0;36m15\u001b[0m\u001b[0;34m]\u001b[0m\u001b[0;34m)\u001b[0m\u001b[0;34m\u001b[0m\u001b[0;34m\u001b[0m\u001b[0m\n\u001b[0m",
            "\u001b[0;31mNameError\u001b[0m: name 'array' is not defined"
          ]
        }
      ]
    },
    {
      "cell_type": "code",
      "metadata": {
        "id": "alkaA-BLZYJR",
        "colab_type": "code",
        "colab": {}
      },
      "source": [
        "e[e>15] # boolean indexing meeting a specified condition"
      ],
      "execution_count": null,
      "outputs": []
    },
    {
      "cell_type": "markdown",
      "metadata": {
        "id": "b2hzCluQaj2s",
        "colab_type": "text"
      },
      "source": [
        "Numpy can also do some mathematical function"
      ]
    },
    {
      "cell_type": "code",
      "metadata": {
        "id": "o2F7No6uaifo",
        "colab_type": "code",
        "colab": {}
      },
      "source": [
        "e.sum()   #when i tried e.sum got <function ndarray.sum> as a result cos i didnt use any bracket sign"
      ],
      "execution_count": null,
      "outputs": []
    },
    {
      "cell_type": "code",
      "metadata": {
        "id": "8RD02stbbKvW",
        "colab_type": "code",
        "colab": {}
      },
      "source": [
        "e.mean()"
      ],
      "execution_count": null,
      "outputs": []
    },
    {
      "cell_type": "code",
      "metadata": {
        "id": "MHbAE_u0baJl",
        "colab_type": "code",
        "colab": {}
      },
      "source": [
        "#another way to write the code\n",
        "np.std(e)"
      ],
      "execution_count": null,
      "outputs": []
    },
    {
      "cell_type": "code",
      "metadata": {
        "id": "4mI4DmI6bhdH",
        "colab_type": "code",
        "colab": {}
      },
      "source": [
        "e.std() # i tried this on my own and see what i got"
      ],
      "execution_count": null,
      "outputs": []
    },
    {
      "cell_type": "code",
      "metadata": {
        "id": "mo2dhDL3bu_y",
        "colab_type": "code",
        "colab": {}
      },
      "source": [
        "np.corrcoef(e,d) #pearson correlation between two arrays"
      ],
      "execution_count": null,
      "outputs": []
    },
    {
      "cell_type": "markdown",
      "metadata": {
        "id": "NvyAGGcncRay",
        "colab_type": "text"
      },
      "source": [
        "#**Lesson 3 : Pandas**"
      ]
    },
    {
      "cell_type": "markdown",
      "metadata": {
        "id": "5VlOduTu4HZv",
        "colab_type": "text"
      },
      "source": [
        "**Creating Series and DataFrames in many ways**"
      ]
    },
    {
      "cell_type": "code",
      "metadata": {
        "id": "M8YY885bci5b",
        "colab_type": "code",
        "colab": {}
      },
      "source": [
        "#Creating series and data frames in many ways\n",
        "import pandas as pd\n",
        "days = pd.Series(['Monday', 'Tuesday', 'Wednesday']) #trying something new\n",
        "print(days)"
      ],
      "execution_count": null,
      "outputs": []
    },
    {
      "cell_type": "code",
      "metadata": {
        "id": "k5iSCBBD5JPj",
        "colab_type": "code",
        "colab": {}
      },
      "source": [
        "# creating series with a numpy array\n",
        "days_list = np.array(['Monday', 'Tuesday', 'Wednesday'])\n",
        "numpy_days = pd.Series(days_list)"
      ],
      "execution_count": null,
      "outputs": []
    },
    {
      "cell_type": "code",
      "metadata": {
        "id": "jQD_6mDA7YSG",
        "colab_type": "code",
        "colab": {}
      },
      "source": [
        "# using strings as index\n",
        "days = pd.Series(['Monday', 'Tuesday', 'Wednesday'],\n",
        "                 index=['a', 'b', 'c'])\n",
        "print(days)"
      ],
      "execution_count": null,
      "outputs": []
    },
    {
      "cell_type": "code",
      "metadata": {
        "id": "FGxdPcDaEdwN",
        "colab_type": "code",
        "colab": {}
      },
      "source": [
        "# create series from a dictionary\n",
        "days1 = pd.Series({'a':'Monday', 'b':'Tuesday', 'c':'Wednesday'})\n",
        "print(days1)"
      ],
      "execution_count": null,
      "outputs": []
    },
    {
      "cell_type": "code",
      "metadata": {
        "id": "AXp7BhUcFw2b",
        "colab_type": "code",
        "colab": {}
      },
      "source": [
        "#Series can be accessed using the specified index as shown below\n",
        "print (days[0], days[1: ], days['c'])   #i changed [0] to 'a'"
      ],
      "execution_count": null,
      "outputs": []
    },
    {
      "cell_type": "code",
      "metadata": {
        "id": "epJskoL3HWvh",
        "colab_type": "code",
        "colab": {}
      },
      "source": [
        "#A DataFrame can be described as a table (2 dimensions) made up of many series with the same index. It holds data in rows and columns just like a spreadsheet. Series, dictionaries, lists other dataframes and numpy arrays can be used to create new ones.\n",
        "print(pd.DataFrame())  # prints an empty dataframe, this possible because we may not have created any\n"
      ],
      "execution_count": null,
      "outputs": []
    },
    {
      "cell_type": "markdown",
      "metadata": {
        "id": "8B403zonJahV",
        "colab_type": "text"
      },
      "source": [
        "Data Frame\n",
        "#How to create data frame#"
      ]
    },
    {
      "cell_type": "code",
      "metadata": {
        "id": "QBsJC10EI3av",
        "colab_type": "code",
        "colab": {}
      },
      "source": [
        "# create a dataframe from a dictionary\n",
        "import pandas as pd\n",
        "df_dict = {'Country': ['Ghana', 'Kenya', 'Nigeria', 'Togo'],\n",
        "           'Capital': ['Accra', 'Nairobi', 'Abuja', 'Lome'],\n",
        "           'Population': [10000, 8500, 35000, 12000],\n",
        "           'Age': [60, 70, 80, 75]\n",
        "}\n",
        "df = pd.DataFrame(df_dict, index=[2, 4, 6, 8])\n",
        "print(df)"
      ],
      "execution_count": null,
      "outputs": []
    },
    {
      "cell_type": "code",
      "metadata": {
        "id": "OJ540SLwmgE7",
        "colab_type": "code",
        "colab": {}
      },
      "source": [
        "df['Capital']"
      ],
      "execution_count": null,
      "outputs": []
    },
    {
      "cell_type": "code",
      "metadata": {
        "id": "t4GtCbDMoWD0",
        "colab_type": "code",
        "colab": {}
      },
      "source": [
        "df.at[6, 'Country']"
      ],
      "execution_count": null,
      "outputs": []
    },
    {
      "cell_type": "code",
      "metadata": {
        "id": "hb0yGylroln1",
        "colab_type": "code",
        "colab": {}
      },
      "source": [
        "df.iat[2, 0] #to pick nigera"
      ],
      "execution_count": null,
      "outputs": []
    },
    {
      "cell_type": "code",
      "metadata": {
        "id": "nncFEtMaovfj",
        "colab_type": "code",
        "colab": {}
      },
      "source": [
        "df.iat[1,1]"
      ],
      "execution_count": null,
      "outputs": []
    },
    {
      "cell_type": "code",
      "metadata": {
        "id": "2DovEkU1pP0x",
        "colab_type": "code",
        "colab": {}
      },
      "source": [
        "df.iat[2,3]"
      ],
      "execution_count": null,
      "outputs": []
    },
    {
      "cell_type": "code",
      "metadata": {
        "id": "PDEjSr04p9RY",
        "colab_type": "code",
        "colab": {}
      },
      "source": [
        "df.skew()"
      ],
      "execution_count": null,
      "outputs": []
    },
    {
      "cell_type": "code",
      "metadata": {
        "id": "jHz50qZfteGC",
        "colab_type": "code",
        "colab": {}
      },
      "source": [
        "df.describe()"
      ],
      "execution_count": null,
      "outputs": []
    },
    {
      "cell_type": "code",
      "metadata": {
        "id": "TGMeXv_Ztdwd",
        "colab_type": "code",
        "colab": {}
      },
      "source": [
        "df.mode()"
      ],
      "execution_count": null,
      "outputs": []
    },
    {
      "cell_type": "code",
      "metadata": {
        "id": "EuHTu41DvLRD",
        "colab_type": "code",
        "colab": {}
      },
      "source": [
        "df.median()"
      ],
      "execution_count": null,
      "outputs": []
    },
    {
      "cell_type": "code",
      "metadata": {
        "id": "p71rIDfZvm_u",
        "colab_type": "code",
        "colab": {}
      },
      "source": [
        "#sorting for tables for missing values\n",
        "import pandas as pd\n",
        "import numpy as np\n",
        "\n",
        "df_dict2 = {'Name': ['James', 'Yemen', 'Caro', np.nan],\n",
        "           'Profession': ['Researcher', 'Artist', 'Doctor', 'Writer'],\n",
        "           'Experience': [12, np.nan, 10, 8],\n",
        "           'Height': [np.nan, 175, 180, 150]}\n",
        "\n",
        "new_df = pd.DataFrame(df_dict2)\n",
        "new_df"
      ],
      "execution_count": null,
      "outputs": []
    },
    {
      "cell_type": "code",
      "metadata": {
        "id": "JhpcWrBLwcBG",
        "colab_type": "code",
        "colab": {}
      },
      "source": [
        "# checking for cells with missing values as True\n",
        "new_df.isnull()"
      ],
      "execution_count": null,
      "outputs": []
    },
    {
      "cell_type": "code",
      "metadata": {
        "id": "nRq0y1S0x17P",
        "colab_type": "code",
        "colab": {}
      },
      "source": [
        "# remove rows with missing values\n",
        "new_df.dropna()\n",
        "#most rows have missing values we only have one complete row"
      ],
      "execution_count": null,
      "outputs": []
    },
    {
      "cell_type": "code",
      "metadata": {
        "id": "h48yWV8m06xd",
        "colab_type": "code",
        "colab": {}
      },
      "source": [
        "# wrangling data sets from different sources\n",
        "\n",
        "#Read stored csv files\n",
        "#csv_df = pd.read_csv(sample.csv) #to read convert a csv saved on your system to a dataframe\n",
        "#csv_df.to_csv(\"name it\",index=False) #to convert a dataframe in your notebook to a csv\n",
        "\n",
        "#sometimes dependent on the xlrd library which can be installed by running pip install xlrd in the terminal\n",
        "#excel_df = pd.read_excel('sample_file.xlsx')\n",
        "#excel_df.to_excel('sample_file.xlsx')\n",
        "\n",
        "#read table from a webpage and save as a dataframe\n",
        "#html_df = pd.read_html('http://www.webpage.com/sampledata.html')\n",
        "#html_df.to_html('sample_file.html')"
      ],
      "execution_count": null,
      "outputs": []
    },
    {
      "cell_type": "code",
      "metadata": {
        "id": "ekCKyvDA1E1x",
        "colab_type": "code",
        "colab": {}
      },
      "source": [
        "import pandas as pd\n",
        "import numpy as np\n",
        "public_utility_data_df= pd.read_csv(\"https://raw.githubusercontent.com/WalePhenomenon/climate_change/master/fuel_ferc1.csv\")\n",
        "public_utility_data_df.describe(include='all')"
      ],
      "execution_count": null,
      "outputs": []
    },
    {
      "cell_type": "code",
      "metadata": {
        "id": "yuymV7eYyFbx",
        "colab_type": "code",
        "colab": {}
      },
      "source": [
        "public_utility_data_df.isnull().sum() \n",
        "# check for cells with missing values as True the .sum() shuws the results as this"
      ],
      "execution_count": null,
      "outputs": []
    },
    {
      "cell_type": "code",
      "metadata": {
        "id": "zwowjNHTznsU",
        "colab_type": "code",
        "colab": {}
      },
      "source": [
        "import pandas as pd\n",
        "import numpy as np\n",
        "public_utility_data_df= pd.read_csv(\"https://raw.githubusercontent.com/WalePhenomenon/climate_change/master/fuel_ferc1.csv\")\n",
        "public_utility_data_df[['fuel_unit']] = public_utility_data_df[['fuel_unit']].fillna(value='mcf') #fill the missing data with fillna\n",
        "#check if missing values in fueldata have been filled\n",
        "public_utility_data_df[\"fuel_unit\"].isnull().sum()"
      ],
      "execution_count": null,
      "outputs": []
    },
    {
      "cell_type": "code",
      "metadata": {
        "id": "0T_hz-2TzF8F",
        "colab_type": "code",
        "colab": {}
      },
      "source": [
        "#use groupby to count the sum of each unique value in the fuel unit column\n",
        "public_utility_data_df.groupby('fuel_unit')['fuel_unit'].count()"
      ],
      "execution_count": null,
      "outputs": []
    },
    {
      "cell_type": "code",
      "metadata": {
        "id": "du9CHmJp0Gja",
        "colab_type": "code",
        "colab": {}
      },
      "source": [
        "public_utility_data_df.groupby('report_year')['report_year'].count()\n",
        "#group by the fuel type code year shows the number of entries per year"
      ],
      "execution_count": null,
      "outputs": []
    },
    {
      "cell_type": "code",
      "metadata": {
        "id": "6JOO4ZID0blo",
        "colab_type": "code",
        "colab": {}
      },
      "source": [
        "public_utility_data_df.groupby('fuel_type_code_pudl').last() #first()\n",
        "#the column being analysed has 6 unique values so this code show the first time each of them appears in the data set"
      ],
      "execution_count": null,
      "outputs": []
    },
    {
      "cell_type": "code",
      "metadata": {
        "id": "3HlNMs6OZXSY",
        "colab_type": "code",
        "colab": {}
      },
      "source": [
        "import pandas as pd\n",
        "import numpy as np\n",
        "public_utility_data_df= pd.read_csv(\"https://raw.githubusercontent.com/WalePhenomenon/climate_change/master/fuel_ferc1.csv\")\n",
        "#merging of data frame\n",
        "public_utility_data_df1 = public_utility_data_df.iloc[0:19000].reset_index(drop=True) # had issues here with naming\n",
        "public_utility_data_df2 = public_utility_data_df.iloc[19000:].reset_index(drop=True)\n",
        "#spliting dataframes"
      ],
      "execution_count": null,
      "outputs": []
    },
    {
      "cell_type": "code",
      "metadata": {
        "id": "sRjSL2YQlvjQ",
        "colab_type": "code",
        "colab": {}
      },
      "source": [
        "#check that the length of both dataframes sum to the expected length: there is no error when i ran the code\n",
        "assert len(public_utility_data_df) == (len(public_utility_data_df1) + len(public_utility_data_df2))"
      ],
      "execution_count": null,
      "outputs": []
    },
    {
      "cell_type": "code",
      "metadata": {
        "id": "-MiiJBD7mRUq",
        "colab_type": "code",
        "colab": {}
      },
      "source": [
        "#an inner merge will lose rows that do not match in both dataframes, this can also be done for outer merge\n",
        "\n",
        "pd.merge(public_utility_data_df1, public_utility_data_df2, how=\"inner\")"
      ],
      "execution_count": null,
      "outputs": []
    },
    {
      "cell_type": "code",
      "metadata": {
        "id": "eRQcRQ4cm2_B",
        "colab_type": "code",
        "colab": {}
      },
      "source": [
        "pd.merge(public_utility_data_df1, public_utility_data_df2, how=\"outer\") #this codes for an outer merge"
      ],
      "execution_count": null,
      "outputs": []
    },
    {
      "cell_type": "code",
      "metadata": {
        "id": "MQ7Yf9mlnU5w",
        "colab_type": "code",
        "colab": {}
      },
      "source": [
        "#removes rows from the right dataframe that do not have a match with the left\n",
        "#and keeps all rows from the left\n",
        "pd.merge(public_utility_data_df1, public_utility_data_df2, how=\"left\")"
      ],
      "execution_count": null,
      "outputs": []
    },
    {
      "cell_type": "code",
      "metadata": {
        "id": "tZgmSuYNnsx9",
        "colab_type": "code",
        "colab": {}
      },
      "source": [
        "#Concatenation is performed with the concat() function by combining series or dataframes \n",
        "#while keeping the indices of the individual unit irrespective of duplicate indices. In the notebook, \n",
        "#we created a dummy dataframe data_to_concat which we concatenated to the fuel_data as below:\n",
        "data_to_concat = pd.DataFrame(np.zeros(public_utility_data_df.shape))\n",
        "pd.concat([public_utility_data_df, data_to_concat]).reset_index(drop=True)"
      ],
      "execution_count": null,
      "outputs": []
    },
    {
      "cell_type": "code",
      "metadata": {
        "id": "wNRt4Gago_Up",
        "colab_type": "code",
        "colab": {}
      },
      "source": [
        "#Duplicates are a common occurrence in datasets which alter the results of data \n",
        "#analysis. Hence, in practice, removing duplicate values is very important. \n",
        "#The duplicated() function is used in Pandas to check for and handle duplicates.\n",
        "public_utility_data_df.duplicated().any() #checking for duplicated rows"
      ],
      "execution_count": null,
      "outputs": []
    },
    {
      "cell_type": "markdown",
      "metadata": {
        "id": "ef3ut3XjpbjW",
        "colab_type": "text"
      },
      "source": [
        "#Visualizing data#"
      ]
    },
    {
      "cell_type": "code",
      "metadata": {
        "id": "JDGgPT7mpZou",
        "colab_type": "code",
        "colab": {}
      },
      "source": [
        "#import library to plot\n",
        "import matplotlib.pyplot as plt\n",
        "import seaborn as sns\n",
        "import pandas.util.testing as tm # i got this line of instruction when i executed the code\n",
        "# the line of code changed the calibration of my chart\n",
        "\n",
        "plt.figure(figsize=(7,4))\n",
        "plt.xticks(rotation=90)\n",
        "public_utility_data_df = pd.DataFrame({'unit':['BBL', 'GAL', 'GRAMSU', 'KGU', 'MCF', 'MMBTU', 'MWDTH', 'MWHTH', 'TON'],\n",
        "            'count':[7998, 84, 464, 110, 11354, 180, 95, 100, 8958]})\n",
        "sns.barplot(data=public_utility_data_df, x='unit', y='count')\n",
        "plt.xlabel('public_utility_data_df')\n",
        "\n",
        "#Because of the extreme range of the values for the fuel unit, we can plot the barchart by taking the logarithm of the y-axis as follows:\n",
        "\n",
        "\n",
        "g = sns.barplot(data=public_utility_data_df, x='unit', y='count')\n",
        "g.set_yscale(\"log\")\n",
        "g.set_ylim(1, 12000)\n",
        "plt.xlabel('Fuel Unit')"
      ],
      "execution_count": null,
      "outputs": []
    },
    {
      "cell_type": "code",
      "metadata": {
        "id": "kThcclu7qm5H",
        "colab_type": "code",
        "colab": {}
      },
      "source": [
        "import matplotlib.pyplot as plt\n",
        "import seaborn as sns\n",
        "import pandas.util.testing as tm\n",
        "# Box plot\n",
        "sns.boxplot(x=\"fuel_type_code_pudl\", y=\"utility_id_ferc1\",\n",
        "            palette=[\"m\", \"g\"], data=public_utility_data_df)\n"
      ],
      "execution_count": null,
      "outputs": []
    },
    {
      "cell_type": "code",
      "metadata": {
        "id": "X6sxj05_uwAH",
        "colab_type": "code",
        "colab": {}
      },
      "source": [
        "# Select a sample of the dataset\n",
        "sample_df = public_utility_data_df.sample(n=2000, random_state=4) # i had to change the no of sample from 20; for distribution\n",
        "\n",
        "# KDE plot \n",
        "sns.kdeplot(sample_df['fuel_cost_per_unit_burned'], shade=True, color=\"b\") #color code in py"
      ],
      "execution_count": null,
      "outputs": []
    },
    {
      "cell_type": "code",
      "metadata": {
        "id": "qn7k4G7cv_bY",
        "colab_type": "code",
        "colab": {}
      },
      "source": [
        "#SCATTER PLOT\n",
        "sns.regplot(x=sample_df[\"utility_id_ferc1\"], y=sample_df[\"fuel_cost_per_mmbtu\"], fit_reg=False)\n",
        "#my scatter diagram is differenet i change the number of my sample size"
      ],
      "execution_count": null,
      "outputs": []
    },
    {
      "cell_type": "code",
      "metadata": {
        "id": "xp5_jlJewkuG",
        "colab_type": "code",
        "colab": {}
      },
      "source": [
        "sns.heatmap(sample_df.corr())\n",
        "#i made a heatmap based on the level of correlation between the columns in the sample dataframe and one can see that fuel_cost_per_mmbtu\n",
        "#is highly correlated with fuel_cost_per_unit deliver with a corellation above 0.8"
      ],
      "execution_count": null,
      "outputs": []
    },
    {
      "cell_type": "markdown",
      "metadata": {
        "id": "jA-MJq9hwtrX",
        "colab_type": "text"
      },
      "source": [
        "#Done with the classes#"
      ]
    },
    {
      "cell_type": "markdown",
      "metadata": {
        "id": "PwqMAohtwzCx",
        "colab_type": "text"
      },
      "source": [
        "#Personal exploration#"
      ]
    },
    {
      "cell_type": "code",
      "metadata": {
        "id": "NMUYkqt8wsY3",
        "colab_type": "code",
        "colab": {}
      },
      "source": [
        ""
      ],
      "execution_count": null,
      "outputs": []
    },
    {
      "cell_type": "markdown",
      "metadata": {
        "id": "mjfr3rH7KT8D",
        "colab_type": "text"
      },
      "source": [
        "#creating data frame list#"
      ]
    },
    {
      "cell_type": "code",
      "metadata": {
        "id": "m5Zh2a5bJxQQ",
        "colab_type": "code",
        "colab": {}
      },
      "source": [
        "import pandas as pd\n",
        "import numpy as np\n",
        "df_list = [['Ghana', 'Accra', 10000, 60], \n",
        "           ['Kenya', 'Nairobi', 8500, 70], \n",
        "           ['Nigeria',   'Abuja', 35000, 80], \n",
        "           ['Togo', 'Lome', 12000, 75]]\n",
        "df1 = pd.DataFrame(df_list, columns=['Country', 'Capital','Population', 'Age'], \n",
        "                   index=[2, 4, 6, 8])\n",
        "print(df1)\n",
        "#two diiferent paths to get to the same answer(process looks similar like )"
      ],
      "execution_count": null,
      "outputs": []
    },
    {
      "cell_type": "markdown",
      "metadata": {
        "id": "Hj5F7yHqLwP_",
        "colab_type": "text"
      },
      "source": [
        "#using acessors#"
      ]
    },
    {
      "cell_type": "markdown",
      "metadata": {
        "id": "8UY24yAML9O_",
        "colab_type": "text"
      },
      "source": [
        "##at, iat, iloc and loc are accessors used to retrieve data in dataframes. iloc selects values from the rows and columns by using integer index to locate positions while loc selects row or columns using labels. at and iat are used to retrieve single values such that at uses the column and row labels and iat uses indices.##"
      ]
    },
    {
      "cell_type": "code",
      "metadata": {
        "id": "9GiBAygLkMV8",
        "colab_type": "code",
        "colab": {}
      },
      "source": [
        "import pandas as pd\n",
        "df_list = [['Ghana', 'Accra', 10000, 60], \n",
        "           ['Kenya', 'Nairobi', 8500, 70], \n",
        "           ['Nigeria',   'Abuja', 35000, 80], \n",
        "           ['Togo', 'Lome', 12000, 75]]\n",
        "df1 = pd.DataFrame(df_list, columns=['Country', 'Capital','Population', 'Age'], \n",
        "                   index=[2, 4, 6, 8])\n",
        "print(df1)"
      ],
      "execution_count": null,
      "outputs": []
    },
    {
      "cell_type": "code",
      "metadata": {
        "id": "JomSGdPWLH12",
        "colab_type": "code",
        "colab": {}
      },
      "source": [
        "df1.iloc[3]  #select the row in the at index 3(i used df because its my last request)"
      ],
      "execution_count": null,
      "outputs": []
    },
    {
      "cell_type": "code",
      "metadata": {
        "id": "xEZOTLeFmvZz",
        "colab_type": "code",
        "colab": {}
      },
      "source": [
        "import pandas as pd\n",
        "#df1['country']   # i replicated this on the data frame. ultered the code abit from the example given"
      ],
      "execution_count": null,
      "outputs": []
    },
    {
      "cell_type": "code",
      "metadata": {
        "id": "KqvYGZ5Sr0La",
        "colab_type": "code",
        "colab": {}
      },
      "source": [
        "\n",
        "# minimum dimensions \n",
        "import numpy as np \n",
        "a = np.array([1, 2, 3,4,5], ndmin = 2) \n",
        "print (a)\n",
        "\n",
        "# dtype parameter \n",
        "import numpy as np \n",
        "a = np.array([1, 2, 3], dtype = complex) \n",
        "print (a)\n",
        "\n",
        "\n",
        "\n",
        "\n",
        "# convert list to ndarray \n",
        "import numpy as np \n",
        "\n",
        "x = [1,2,3,6,8,9] \n",
        "a = np.asarray(x) \n",
        "print (a)\n",
        "\n",
        "# dtype as a set\n",
        "\n",
        "x = [1,2,3,6,8,9] \n",
        "a = np.asarray(x, dtype=float)\n",
        "print(a)\n",
        "\n",
        "# ndarray from tuple. Tuple is a bit different, how? The bracket\n",
        "import numpy as np\n",
        "x=(1,2,3,5,7,8)\n",
        "a=np.array(x)\n",
        "print(x)\n",
        "\n",
        "# ndarray from lists of tuples, here tuple as a list is in []\n",
        "import numpy as np\n",
        "x=[(1,2,3),(4,5,6,7)]\n",
        "a=np.asarray(x)\n",
        "print(x)\n",
        "\n",
        "# we have be using np.asarry(x)\n",
        "\n",
        "\n",
        "#numpy.frombuffer\n",
        "#This function interprets a buffer as one-dimensional array. \n",
        "#Any object that exposes the buffer interface is used as parameter to return an ndarray.\n",
        "#numpy.frombuffer(buffer, dtype = float, count = -1, offset = 0)\n",
        "\n",
        "# i have issues using this \n",
        "\n",
        "# create list object using range function \n",
        "import numpy as np \n",
        "list = range(5) \n",
        "print (list)\n",
        "\n",
        "#numpy.dtype(object, align, copy) this sytanx is used to configure data type\n",
        "\n",
        "# using array-scalar type \n",
        "import numpy as np \n",
        "dt = np.dtype(np.int32) \n",
        "print (dt)\n",
        "\n",
        "\n",
        "#int8, int16, int32, int64 can be replaced by equivalent string 'i1', 'i2','i4', etc. \n",
        "import numpy as np \n",
        "\n",
        "dt = np.dtype('i4')\n",
        "print (dt) \n",
        "\n",
        "\n",
        "# using endian notation \n",
        "import numpy as np \n",
        "dt = np.dtype('>i4') \n",
        "print (dt)\n",
        "\n",
        "\n",
        "# first create structured data type \n",
        "import numpy as np \n",
        "dt = np.dtype([('age',np.int8)]) \n",
        "print (dt)\n",
        "\n",
        "\n",
        "# Applying it to ndarray object \n",
        "import numpy as np \n",
        "\n",
        "dt = np.dtype([('age',np.int8)]) \n",
        "a = np.array([(10,),(20,),(30,)], dtype= dt) \n",
        "print (a)\n",
        "\n",
        "# file name can be used to access content of age column \n",
        "import numpy as np \n",
        "\n",
        "dt = np.dtype([('age',np.int8)]) \n",
        "a = np.array([(10,),(20,),(30,)], dtype = dt) \n",
        "print (a)\n",
        "\n",
        "\n",
        "import numpy as np \n",
        "student = np.dtype([('name','S20'), ('age', 'i1'), ('marks', 'f4')]) \n",
        "print (student)\n",
        "\n",
        "\n",
        "import numpy as np \n",
        "student = np.dtype([('name','S20'), ('age', 'i1'), ('marks', 'f4')]) \n",
        "h = np.array([('abc', 21, 50),('xyz', 18, 75)], dtype = student) \n",
        "print (h)"
      ],
      "execution_count": null,
      "outputs": []
    },
    {
      "cell_type": "markdown",
      "metadata": {
        "id": "kUoU54hc2OzO",
        "colab_type": "text"
      },
      "source": [
        ""
      ]
    }
  ]
}